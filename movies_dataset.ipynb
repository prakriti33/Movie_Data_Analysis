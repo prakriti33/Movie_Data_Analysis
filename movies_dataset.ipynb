{
 "cells": [
  {
   "cell_type": "code",
   "execution_count": 1,
   "id": "2f3fd566-cd43-4708-8e48-11fab3f09c23",
   "metadata": {},
   "outputs": [],
   "source": [
    "import pandas as pd\n",
    "\n",
    "# Load the dataset with Latin-1 encoding\n",
    "df = pd.read_csv(r'C:\\Users\\Musi\\final_dataset.csv', encoding='latin1')\n"
   ]
  },
  {
   "cell_type": "code",
   "execution_count": 2,
   "id": "a50deb41-9da4-4bc1-87c2-03b2eba0b77f",
   "metadata": {},
   "outputs": [
    {
     "name": "stdout",
     "output_type": "stream",
     "text": [
      "          id                            title  year duration MPA  rating  \\\n",
      "0  tt0073195                             Jaws  1975    2h 4m  PG     8.1   \n",
      "1  tt0073629    The Rocky Horror Picture Show  1975   1h 40m   R     7.4   \n",
      "2  tt0073486  One Flew Over the Cuckoo's Nest  1975   2h 13m   R     8.7   \n",
      "3  tt0072890                Dog Day Afternoon  1975    2h 5m   R     8.0   \n",
      "4  tt0073692                          Shampoo  1975   1h 50m   R     6.4   \n",
      "\n",
      "  votes  meta_score                                        description  \\\n",
      "0  690K        87.0  When a massive killer shark unleashes chaos on...   \n",
      "1  174K        65.0  A newly-engaged couple have a breakdown in an ...   \n",
      "2  1.1M        84.0  In the Fall of 1963, a Korean War veteran and ...   \n",
      "3  281K        86.0  Three amateur robbers plan to hold up a Brookl...   \n",
      "4   15K        65.0  On Election Day, 1968, irresponsible hairdress...   \n",
      "\n",
      "                             Movie_Link  ... opening_weekend_gross  \\\n",
      "0  https://www.imdb.com/title/tt0073195  ...            $7,061,513   \n",
      "1  https://www.imdb.com/title/tt0073629  ...                   NaN   \n",
      "2  https://www.imdb.com/title/tt0073486  ...                   NaN   \n",
      "3  https://www.imdb.com/title/tt0072890  ...                   NaN   \n",
      "4  https://www.imdb.com/title/tt0073692  ...                   NaN   \n",
      "\n",
      "  gross_worldwide gross_us_canada release_date  \\\n",
      "0    $477,916,625    $267,263,625       1975.0   \n",
      "1    $115,827,018    $112,892,319       1975.0   \n",
      "2    $109,115,366    $108,981,275       1975.0   \n",
      "3     $50,004,527     $50,000,000       1975.0   \n",
      "4     $49,407,734     $49,407,734       1975.0   \n",
      "\n",
      "                      countries_origin  \\\n",
      "0                    ['United States']   \n",
      "1  ['United Kingdom', 'United States']   \n",
      "2                    ['United States']   \n",
      "3                    ['United States']   \n",
      "4                    ['United States']   \n",
      "\n",
      "                                   filming_locations  \\\n",
      "0  [\"Water Street, Edgartown, Martha's Vineyard, ...   \n",
      "1  [\"Oakley Court, Windsor Road, Oakley Green, Wi...   \n",
      "2  ['Oregon State Mental Hospital - 2600 Center S...   \n",
      "3  ['285 Prospect Park West, Brooklyn, New York C...   \n",
      "4  [\"2270 Bowmont Drive, Beverly Hills, Californi...   \n",
      "\n",
      "                                production_companies  \\\n",
      "0  ['Zanuck/Brown Productions', 'Universal Pictur...   \n",
      "1  ['Twentieth Century Fox', 'Michael White Produ...   \n",
      "2                   ['Fantasy Films', 'N.V. Zvaluw']   \n",
      "3  ['Warner Bros.', 'Artists Entertainment Complex']   \n",
      "4  ['Persky-Bright / Vista', 'Columbia Pictures',...   \n",
      "\n",
      "                                 awards_content  \\\n",
      "0  Won 3 Oscars, 16 wins & 20 nominations total   \n",
      "1          Awards, 3 wins & 4 nominations total   \n",
      "2  Won 5 Oscars, 38 wins & 15 nominations total   \n",
      "3   Won 1 Oscar, 14 wins & 20 nominations total   \n",
      "4    Won 1 Oscar, 3 wins & 11 nominations total   \n",
      "\n",
      "                                              genres    languages  \n",
      "0  ['Monster Horror', 'Sea Adventure', 'Survival'...  ['English']  \n",
      "1  ['B-Horror', 'Dark Comedy', 'Parody', 'Raunchy...  ['English']  \n",
      "2  ['Medical Drama', 'Psychological Drama', 'Drama']  ['English']  \n",
      "3  ['Dark Comedy', 'Heist', 'True Crime', 'Biogra...  ['English']  \n",
      "4                      ['Satire', 'Comedy', 'Drama']  ['English']  \n",
      "\n",
      "[5 rows x 24 columns]\n",
      "Dataset size: (63249, 24)\n",
      "<class 'pandas.core.frame.DataFrame'>\n",
      "RangeIndex: 63249 entries, 0 to 63248\n",
      "Data columns (total 24 columns):\n",
      " #   Column                 Non-Null Count  Dtype  \n",
      "---  ------                 --------------  -----  \n",
      " 0   id                     63249 non-null  object \n",
      " 1   title                  63249 non-null  object \n",
      " 2   year                   63249 non-null  int64  \n",
      " 3   duration               61174 non-null  object \n",
      " 4   MPA                    41227 non-null  object \n",
      " 5   rating                 59181 non-null  float64\n",
      " 6   votes                  59181 non-null  object \n",
      " 7   meta_score             15533 non-null  float64\n",
      " 8   description            60889 non-null  object \n",
      " 9   Movie_Link             63249 non-null  object \n",
      " 10  writers                62980 non-null  object \n",
      " 11  directors              63198 non-null  object \n",
      " 12  stars                  62905 non-null  object \n",
      " 13  budget                 15359 non-null  object \n",
      " 14  opening_weekend_gross  16837 non-null  object \n",
      " 15  gross_worldwide        20722 non-null  object \n",
      " 16  gross_us_canada        19544 non-null  object \n",
      " 17  release_date           54849 non-null  float64\n",
      " 18  countries_origin       63150 non-null  object \n",
      " 19  filming_locations      46395 non-null  object \n",
      " 20  production_companies   61276 non-null  object \n",
      " 21  awards_content         27068 non-null  object \n",
      " 22  genres                 62462 non-null  object \n",
      " 23  languages              62919 non-null  object \n",
      "dtypes: float64(3), int64(1), object(20)\n",
      "memory usage: 11.6+ MB\n",
      "None\n",
      "id                           0\n",
      "title                        0\n",
      "year                         0\n",
      "duration                  2075\n",
      "MPA                      22022\n",
      "rating                    4068\n",
      "votes                     4068\n",
      "meta_score               47716\n",
      "description               2360\n",
      "Movie_Link                   0\n",
      "writers                    269\n",
      "directors                   51\n",
      "stars                      344\n",
      "budget                   47890\n",
      "opening_weekend_gross    46412\n",
      "gross_worldwide          42527\n",
      "gross_us_canada          43705\n",
      "release_date              8400\n",
      "countries_origin            99\n",
      "filming_locations        16854\n",
      "production_companies      1973\n",
      "awards_content           36181\n",
      "genres                     787\n",
      "languages                  330\n",
      "dtype: int64\n"
     ]
    }
   ],
   "source": [
    "# Step 1: Explore data (optional)\n",
    "print(df.head())\n",
    "print(\"Dataset size:\", df.shape)\n",
    "print(df.info())\n",
    "print(df.isnull().sum())"
   ]
  },
  {
   "cell_type": "code",
   "execution_count": 43,
   "id": "e0d45eea-b9d7-4d6b-8b04-5c30602e04f2",
   "metadata": {},
   "outputs": [
    {
     "name": "stdout",
     "output_type": "stream",
     "text": [
      "id                               object\n",
      "title                            object\n",
      "year                              int64\n",
      "duration                         object\n",
      "MPA                              object\n",
      "rating                          float64\n",
      "votes                            object\n",
      "meta_score                      float64\n",
      "description                      object\n",
      "Movie_Link                       object\n",
      "writers                          object\n",
      "directors                        object\n",
      "stars                            object\n",
      "budget                           object\n",
      "opening_weekend_gross            object\n",
      "gross_worldwide                  object\n",
      "gross_us_canada                  object\n",
      "release_date             datetime64[ns]\n",
      "countries_origin                 object\n",
      "filming_locations                object\n",
      "production_companies             object\n",
      "awards_content                   object\n",
      "genres                           object\n",
      "languages                        object\n",
      "dtype: object\n"
     ]
    }
   ],
   "source": [
    "# Step 2: Data clean garne\n",
    "\n",
    "# 'description' column bata extra spaces hataune (column ko exact naam herera)\n",
    "df['description'] = df['description'].str.strip()\n",
    "\n",
    "# 'release_date' lai datetime ma convert garne, error aaye pani ignore garne\n",
    "df['release_date'] = pd.to_datetime(df['release_date'], errors='coerce')\n",
    "\n",
    "# Clean gare paxi data ko type kasto xa herne\n",
    "print(df.dtypes)\n"
   ]
  },
  {
   "cell_type": "code",
   "execution_count": 3,
   "id": "7bf782c9-4b1f-40d4-876a-170c9df8595d",
   "metadata": {},
   "outputs": [
    {
     "name": "stdout",
     "output_type": "stream",
     "text": [
      "   TotalGross    Year  Month  Day\n",
      "0         0.0  1970.0    1.0  1.0\n",
      "1         0.0  1970.0    1.0  1.0\n",
      "2         0.0  1970.0    1.0  1.0\n",
      "3         0.0  1970.0    1.0  1.0\n",
      "4         0.0  1970.0    1.0  1.0\n"
     ]
    }
   ],
   "source": [
    "# Step 3: Feature engineering garne ho\n",
    "\n",
    "# Comma hataune ani gross columns lai numeric ma convert garne, jaha error cha tyo not a number(NaN) ma rakhne\n",
    "df['gross_us_canada'] = pd.to_numeric(df['gross_us_canada'].str.replace(',', '', regex=False), errors='coerce')\n",
    "df['gross_worldwide'] = pd.to_numeric(df['gross_worldwide'].str.replace(',', '', regex=False), errors='coerce')\n",
    "\n",
    "# NaN lai 0 le fill garera safe addition garna milos\n",
    "df['gross_us_canada'] = df['gross_us_canada'].fillna(0)\n",
    "df['gross_worldwide'] = df['gross_worldwide'].fillna(0)\n",
    "\n",
    "# TotalGross bhanne column banau, jun US Canada ra Worldwide gross ko sum ho\n",
    "df['TotalGross'] = df['gross_us_canada'] + df['gross_worldwide']\n",
    "\n",
    "# release_date lai datetime ma convert garna, jodi ahile samma bhayeko chaina bhane\n",
    "df['release_date'] = pd.to_datetime(df['release_date'], errors='coerce')\n",
    "\n",
    "# release_date bata year, month, day extract garne\n",
    "df['Year'] = df['release_date'].dt.year\n",
    "df['Month'] = df['release_date'].dt.month\n",
    "df['Day'] = df['release_date'].dt.day\n",
    "\n",
    "# Nai banaeko columns check garera herne\n",
    "print(df[['TotalGross', 'Year', 'Month', 'Day']].head())\n"
   ]
  },
  {
   "cell_type": "code",
   "execution_count": 4,
   "id": "83e392b4-400c-48f7-9e74-43241c3644b1",
   "metadata": {},
   "outputs": [
    {
     "name": "stdout",
     "output_type": "stream",
     "text": [
      "               year        rating    meta_score  gross_worldwide  \\\n",
      "count  63249.000000  59181.000000  15533.000000          63249.0   \n",
      "mean    1972.686572      6.162731     59.071203              0.0   \n",
      "min     1920.000000      1.000000      1.000000              0.0   \n",
      "25%     1946.000000      5.500000     47.000000              0.0   \n",
      "50%     1973.000000      6.300000     61.000000              0.0   \n",
      "75%     1999.000000      6.900000     72.000000              0.0   \n",
      "max     2025.000000     10.000000    100.000000              0.0   \n",
      "std       30.544579      1.070630     17.403032              0.0   \n",
      "\n",
      "       gross_us_canada                   release_date  TotalGross     Year  \\\n",
      "count          63249.0                          54849     63249.0  54849.0   \n",
      "mean               0.0  1970-01-01 00:00:00.000001966         0.0   1970.0   \n",
      "min                0.0  1970-01-01 00:00:00.000001920         0.0   1970.0   \n",
      "25%                0.0  1970-01-01 00:00:00.000001943         0.0   1970.0   \n",
      "50%                0.0  1970-01-01 00:00:00.000001966         0.0   1970.0   \n",
      "75%                0.0  1970-01-01 00:00:00.000001989         0.0   1970.0   \n",
      "max                0.0  1970-01-01 00:00:00.000002024         0.0   1970.0   \n",
      "std                0.0                            NaN         0.0      0.0   \n",
      "\n",
      "         Month      Day  \n",
      "count  54849.0  54849.0  \n",
      "mean       1.0      1.0  \n",
      "min        1.0      1.0  \n",
      "25%        1.0      1.0  \n",
      "50%        1.0      1.0  \n",
      "75%        1.0      1.0  \n",
      "max        1.0      1.0  \n",
      "std        0.0      0.0  \n"
     ]
    },
    {
     "data": {
      "image/png": "[encoded data removed]",
      "text/plain": [
       "<Figure size 640x480 with 1 Axes>"
      ]
     },
     "metadata": {},
     "output_type": "display_data"
    },
    {
     "data": {
      "image/png": "[encoded data removed]",
      "text/plain": [
       "<Figure size 640x480 with 1 Axes>"
      ]
     },
     "metadata": {},
     "output_type": "display_data"
    },
    {
     "data": {
      "image/png": "[encoded data removed]",
      "text/plain": [
       "<Figure size 640x480 with 1 Axes>"
      ]
     },
     "metadata": {},
     "output_type": "display_data"
    },
    {
     "name": "stdout",
     "output_type": "stream",
     "text": [
      "id                           0\n",
      "title                        0\n",
      "year                         0\n",
      "duration                  2075\n",
      "MPA                      22022\n",
      "rating                    4068\n",
      "votes                     4068\n",
      "meta_score               47716\n",
      "description               2360\n",
      "Movie_Link                   0\n",
      "writers                    269\n",
      "directors                   51\n",
      "stars                      344\n",
      "budget                   47890\n",
      "opening_weekend_gross    46412\n",
      "gross_worldwide              0\n",
      "gross_us_canada              0\n",
      "release_date              8400\n",
      "countries_origin            99\n",
      "filming_locations        16854\n",
      "production_companies      1973\n",
      "awards_content           36181\n",
      "genres                     787\n",
      "languages                  330\n",
      "TotalGross                   0\n",
      "Year                         0\n",
      "Month                     8400\n",
      "Day                       8400\n",
      "dtype: int64\n"
     ]
    }
   ],
   "source": [
    "# Step 4: Exploratory Data Analysis (EDA)\n",
    "\n",
    "import matplotlib.pyplot as plt\n",
    "import seaborn as sns\n",
    "\n",
    "# Summary statistics of numeric columns\n",
    "print(df.describe())\n",
    "\n",
    "# Plot distribution of TotalGross revenue\n",
    "sns.histplot(df['TotalGross'], bins=50)\n",
    "plt.title('Distribution of Total Gross Revenue')\n",
    "plt.show()\n",
    "\n",
    "# Count number of entries per year (ignore invalid years)\n",
    "df['Year'] = df['Year'].fillna(0).astype(int)  # Fill NaN with 0 and convert to int\n",
    "sns.countplot(x='Year', data=df[df['Year'] > 0])  # Plot only valid years\n",
    "plt.xticks(rotation=90)\n",
    "plt.title('Number of entries per Year')\n",
    "plt.show()\n",
    "\n",
    "# Scatter plot of rating vs TotalGross to check relationship\n",
    "sns.scatterplot(x='rating', y='TotalGross', data=df)\n",
    "plt.title('Rating vs Total Gross Revenue')\n",
    "plt.show()\n",
    "\n",
    "# Check missing values in each column\n",
    "print(df.isna().sum())\n"
   ]
  },
  {
   "cell_type": "code",
   "execution_count": 5,
   "id": "f2a2a025-1c23-4ebc-8fa7-812e44548c07",
   "metadata": {},
   "outputs": [
    {
     "name": "stdout",
     "output_type": "stream",
     "text": [
      "id                           0\n",
      "title                        0\n",
      "year                         0\n",
      "duration                  2075\n",
      "MPA                      22022\n",
      "rating                    4068\n",
      "votes                     4068\n",
      "meta_score               47716\n",
      "description               2360\n",
      "Movie_Link                   0\n",
      "writers                    269\n",
      "directors                   51\n",
      "stars                      344\n",
      "budget                   47890\n",
      "opening_weekend_gross    46412\n",
      "gross_worldwide          63249\n",
      "gross_us_canada          63249\n",
      "release_date              8400\n",
      "countries_origin            99\n",
      "filming_locations        16854\n",
      "production_companies      1973\n",
      "awards_content           36181\n",
      "genres                     787\n",
      "languages                  330\n",
      "TotalGross                   0\n",
      "dtype: int64\n",
      "          id                            title  year duration MPA  rating  \\\n",
      "0  tt0073195                             Jaws  1975    2h 4m  PG     8.1   \n",
      "1  tt0073629    The Rocky Horror Picture Show  1975   1h 40m   R     7.4   \n",
      "2  tt0073486  One Flew Over the Cuckoo's Nest  1975   2h 13m   R     8.7   \n",
      "3  tt0072890                Dog Day Afternoon  1975    2h 5m   R     8.0   \n",
      "4  tt0073692                          Shampoo  1975   1h 50m   R     6.4   \n",
      "\n",
      "  votes  meta_score                                        description  \\\n",
      "0  690K        87.0  When a massive killer shark unleashes chaos on...   \n",
      "1  174K        65.0  A newly-engaged couple have a breakdown in an ...   \n",
      "2  1.1M        84.0  In the Fall of 1963, a Korean War veteran and ...   \n",
      "3  281K        86.0  Three amateur robbers plan to hold up a Brookl...   \n",
      "4   15K        65.0  On Election Day, 1968, irresponsible hairdress...   \n",
      "\n",
      "                             Movie_Link  ... gross_worldwide gross_us_canada  \\\n",
      "0  https://www.imdb.com/title/tt0073195  ...             NaN             NaN   \n",
      "1  https://www.imdb.com/title/tt0073629  ...             NaN             NaN   \n",
      "2  https://www.imdb.com/title/tt0073486  ...             NaN             NaN   \n",
      "3  https://www.imdb.com/title/tt0072890  ...             NaN             NaN   \n",
      "4  https://www.imdb.com/title/tt0073692  ...             NaN             NaN   \n",
      "\n",
      "  release_date                     countries_origin  \\\n",
      "0       1975.0                    ['United States']   \n",
      "1       1975.0  ['United Kingdom', 'United States']   \n",
      "2       1975.0                    ['United States']   \n",
      "3       1975.0                    ['United States']   \n",
      "4       1975.0                    ['United States']   \n",
      "\n",
      "                                   filming_locations  \\\n",
      "0  [\"Water Street, Edgartown, Martha's Vineyard, ...   \n",
      "1  [\"Oakley Court, Windsor Road, Oakley Green, Wi...   \n",
      "2  ['Oregon State Mental Hospital - 2600 Center S...   \n",
      "3  ['285 Prospect Park West, Brooklyn, New York C...   \n",
      "4  [\"2270 Bowmont Drive, Beverly Hills, Californi...   \n",
      "\n",
      "                                production_companies  \\\n",
      "0  ['Zanuck/Brown Productions', 'Universal Pictur...   \n",
      "1  ['Twentieth Century Fox', 'Michael White Produ...   \n",
      "2                   ['Fantasy Films', 'N.V. Zvaluw']   \n",
      "3  ['Warner Bros.', 'Artists Entertainment Complex']   \n",
      "4  ['Persky-Bright / Vista', 'Columbia Pictures',...   \n",
      "\n",
      "                                 awards_content  \\\n",
      "0  Won 3 Oscars, 16 wins & 20 nominations total   \n",
      "1          Awards, 3 wins & 4 nominations total   \n",
      "2  Won 5 Oscars, 38 wins & 15 nominations total   \n",
      "3   Won 1 Oscar, 14 wins & 20 nominations total   \n",
      "4    Won 1 Oscar, 3 wins & 11 nominations total   \n",
      "\n",
      "                                              genres    languages TotalGross  \n",
      "0  ['Monster Horror', 'Sea Adventure', 'Survival'...  ['English']        0.0  \n",
      "1  ['B-Horror', 'Dark Comedy', 'Parody', 'Raunchy...  ['English']        0.0  \n",
      "2  ['Medical Drama', 'Psychological Drama', 'Drama']  ['English']        0.0  \n",
      "3  ['Dark Comedy', 'Heist', 'True Crime', 'Biogra...  ['English']        0.0  \n",
      "4                      ['Satire', 'Comedy', 'Drama']  ['English']        0.0  \n",
      "\n",
      "[5 rows x 25 columns]\n"
     ]
    }
   ],
   "source": [
    "# Step 5 : Data Cleaning and Total Gross Calculation\n",
    "\n",
    "\n",
    "import pandas as pd\n",
    "\n",
    "# Data load gareko (example file name ho, tapaile afno file name halnu parcha)\n",
    "df = pd.read_csv('final_dataset.csv')\n",
    "\n",
    "# 1. 'gross_us_canada' column ma 0 haru lai pandas ko missing value (pd.NA) le replace garnu\n",
    "#    Note: inplace=True use nagari, directly column ma assign gareko\n",
    "df['gross_us_canada'] = df['gross_us_canada'].replace(0, pd.NA)\n",
    "\n",
    "# 2. 'gross_worldwide' column ma pani 0 lai pd.NA le replace garnu\n",
    "df['gross_worldwide'] = df['gross_worldwide'].replace(0, pd.NA)\n",
    "\n",
    "# 3. Aba 'gross_us_canada' column lai numeric ma convert garnu,\n",
    "#    kunai string ya invalid value bhaye NaN (missing) ma convert huncha\n",
    "df['gross_us_canada'] = pd.to_numeric(df['gross_us_canada'], errors='coerce')\n",
    "\n",
    "# 4. 'gross_worldwide' pani numeric ma convert garnu with same error handling\n",
    "df['gross_worldwide'] = pd.to_numeric(df['gross_worldwide'], errors='coerce')\n",
    "\n",
    "# 5. Missing values lai fillna(0) le 0 banayera 'TotalGross' calculate garnu\n",
    "#    Yo bhanda agadi missing (NaN) bhaye math calculation error huncha, tesaile fill garnu parcha\n",
    "df['TotalGross'] = df['gross_us_canada'].fillna(0) + df['gross_worldwide'].fillna(0)\n",
    "\n",
    "# 6. Kun kun column ma kati missing values cha bhanera herne\n",
    "print(df.isnull().sum())\n",
    "\n",
    "# 7. Data ko first 5 row herne (optional, verify garnalai)\n",
    "print(df.head())\n"
   ]
  },
  {
   "cell_type": "code",
   "execution_count": null,
   "id": "ff9c1f96-aa89-448d-af79-7fc4cf3fa32c",
   "metadata": {},
   "outputs": [],
   "source": []
  },
  {
   "cell_type": "code",
   "execution_count": 6,
   "id": "1bf933e9-9289-4814-a61e-356afe307252",
   "metadata": {},
   "outputs": [],
   "source": [
    "# Step 6: Convert 'genres' string representation of list to actual list\n",
    "import ast\n",
    "\n",
    "# Convert the string to list using ast.literal_eval safely\n",
    "df['genres_list'] = df['genres'].apply(lambda x: ast.literal_eval(x) if pd.notnull(x) else [])\n",
    "\n",
    "# Import MultiLabelBinarizer to one-hot encode the genre lists\n",
    "from sklearn.preprocessing import MultiLabelBinarizer\n",
    "\n",
    "mlb = MultiLabelBinarizer()\n",
    "\n",
    "# Fit-transform the genres_list column to get one-hot encoded genre columns\n",
    "genres_dummies = pd.DataFrame(mlb.fit_transform(df['genres_list']),\n",
    "                             columns=mlb.classes_,\n",
    "                             index=df.index)\n",
    "# Concatenate the new one-hot encoded columns back to the original dataframe\n",
    "df = pd.concat([df, genres_dummies], axis=1)\n"
   ]
  },
  {
   "cell_type": "code",
   "execution_count": 28,
   "id": "9f3bf60e-fcb6-4dbd-8931-6a2647fbdaeb",
   "metadata": {},
   "outputs": [
    {
     "name": "stdout",
     "output_type": "stream",
     "text": [
      "Index(['id', 'title', 'year', 'duration', 'rating', 'votes', 'meta_score',\n",
      "       'description', 'Movie_Link', 'writers', 'directors', 'stars', 'budget',\n",
      "       'opening_weekend_gross', 'gross_worldwide', 'gross_us_canada',\n",
      "       'release_date', 'countries_origin', 'filming_locations',\n",
      "       'production_companies', 'awards_content', 'genres', 'languages',\n",
      "       'TotalGross', 'MPA_Not Rated'],\n",
      "      dtype='object')\n"
     ]
    }
   ],
   "source": []
  },
  {
   "cell_type": "code",
   "execution_count": null,
   "id": "3d13c42c-ee6b-41b9-8161-e89f04f45db5",
   "metadata": {},
   "outputs": [],
   "source": []
  },
  {
   "cell_type": "code",
   "execution_count": 8,
   "id": "2c46ee32-4bd8-4fdd-8504-953f9e2fedf8",
   "metadata": {
    "scrolled": true
   },
   "outputs": [
    {
     "data": {
      "image/png": "[encoded data removed]",
      "text/plain": [
       "<Figure size 1000x500 with 1 Axes>"
      ]
     },
     "metadata": {},
     "output_type": "display_data"
    }
   ],
   "source": [
    "# Step 7: Data Visualization garne ra basic analysis herne\n",
    "\n",
    "\n",
    "# Required Libraries\n",
    "import matplotlib.pyplot as plt\n",
    "import seaborn as sns\n",
    "import pandas as pd\n",
    "\n",
    "# Convert release_date to datetime\n",
    "df['release_date'] = pd.to_datetime(df['release_date'], errors='coerce')\n",
    "\n",
    "# Extract release year\n",
    "df['release_year'] = df['release_date'].dt.year\n",
    "\n",
    "# Drop rows with missing years\n",
    "df = df.dropna(subset=['release_year'])\n",
    "\n",
    "# Convert to integer\n",
    "df['release_year'] = df['release_year'].astype(int)\n",
    "\n",
    "# Create Decade column\n",
    "df['Decade'] = (df['release_year'] // 10) * 10\n",
    "\n",
    "# Visualization\n",
    "plt.figure(figsize=(10, 5))\n",
    "sns.countplot(x='Decade', data=df, hue='Decade', palette='viridis', legend=False)\n",
    "plt.title('Movies Count By Decade')\n",
    "plt.xlabel('Decade')\n",
    "plt.ylabel('Number of Movies')\n",
    "plt.xticks(rotation=45)\n",
    "plt.tight_layout()\n",
    "plt.show()\n"
   ]
  },
  {
   "cell_type": "code",
   "execution_count": null,
   "id": "3491d062-f72c-4499-b5da-325c27c583f1",
   "metadata": {},
   "outputs": [],
   "source": []
  },
  {
   "cell_type": "code",
   "execution_count": 49,
   "id": "a2cb136d-dd05-477d-a34c-f1abe96ed656",
   "metadata": {},
   "outputs": [
    {
     "name": "stdout",
     "output_type": "stream",
     "text": [
      "   genre_count\n",
      "0          0.0\n",
      "1          0.0\n",
      "2          0.0\n",
      "3          0.0\n",
      "4          0.0\n"
     ]
    }
   ],
   "source": [
    "# Step 8: Count number of genres per row\n",
    "df['genre_count'] = df[genre_columns].sum(axis=1)\n",
    "print(df[['genre_count']].head())\n"
   ]
  },
  {
   "cell_type": "code",
   "execution_count": 11,
   "id": "422095ca-f9ff-4382-b37e-915de38462b7",
   "metadata": {},
   "outputs": [
    {
     "ename": "ValueError",
     "evalue": "Could not interpret value `genre_count` for `x`. An entry with this name does not appear in `data`.",
     "output_type": "error",
     "traceback": [
      "\u001b[31m---------------------------------------------------------------------------\u001b[39m",
      "\u001b[31mValueError\u001b[39m                                Traceback (most recent call last)",
      "\u001b[36mCell\u001b[39m\u001b[36m \u001b[39m\u001b[32mIn[11]\u001b[39m\u001b[32m, line 5\u001b[39m\n\u001b[32m      2\u001b[39m \u001b[38;5;28;01mimport\u001b[39;00m\u001b[38;5;250m \u001b[39m\u001b[34;01mseaborn\u001b[39;00m\u001b[38;5;250m \u001b[39m\u001b[38;5;28;01mas\u001b[39;00m\u001b[38;5;250m \u001b[39m\u001b[34;01msns\u001b[39;00m\n\u001b[32m      4\u001b[39m plt.figure(figsize=(\u001b[32m8\u001b[39m,\u001b[32m5\u001b[39m))\n\u001b[32m----> \u001b[39m\u001b[32m5\u001b[39m \u001b[43msns\u001b[49m\u001b[43m.\u001b[49m\u001b[43mcountplot\u001b[49m\u001b[43m(\u001b[49m\u001b[43mx\u001b[49m\u001b[43m=\u001b[49m\u001b[33;43m'\u001b[39;49m\u001b[33;43mgenre_count\u001b[39;49m\u001b[33;43m'\u001b[39;49m\u001b[43m,\u001b[49m\u001b[43m \u001b[49m\u001b[43mdata\u001b[49m\u001b[43m=\u001b[49m\u001b[43mdf\u001b[49m\u001b[43m,\u001b[49m\u001b[43m \u001b[49m\u001b[43mpalette\u001b[49m\u001b[43m=\u001b[49m\u001b[33;43m'\u001b[39;49m\u001b[33;43mcoolwarm\u001b[39;49m\u001b[33;43m'\u001b[39;49m\u001b[43m)\u001b[49m\n\u001b[32m      6\u001b[39m plt.title(\u001b[33m'\u001b[39m\u001b[33mNumber of Genres per Movie\u001b[39m\u001b[33m'\u001b[39m)\n\u001b[32m      7\u001b[39m plt.xlabel(\u001b[33m'\u001b[39m\u001b[33mNumber of Genres\u001b[39m\u001b[33m'\u001b[39m)\n",
      "\u001b[36mFile \u001b[39m\u001b[32m~\\AppData\\Local\\Programs\\Python\\Python313\\Lib\\site-packages\\seaborn\\categorical.py:2631\u001b[39m, in \u001b[36mcountplot\u001b[39m\u001b[34m(data, x, y, hue, order, hue_order, orient, color, palette, saturation, fill, hue_norm, stat, width, dodge, gap, log_scale, native_scale, formatter, legend, ax, **kwargs)\u001b[39m\n\u001b[32m   2628\u001b[39m \u001b[38;5;28;01melif\u001b[39;00m x \u001b[38;5;129;01mis\u001b[39;00m \u001b[38;5;129;01mnot\u001b[39;00m \u001b[38;5;28;01mNone\u001b[39;00m \u001b[38;5;129;01mand\u001b[39;00m y \u001b[38;5;129;01mis\u001b[39;00m \u001b[38;5;129;01mnot\u001b[39;00m \u001b[38;5;28;01mNone\u001b[39;00m:\n\u001b[32m   2629\u001b[39m     \u001b[38;5;28;01mraise\u001b[39;00m \u001b[38;5;167;01mTypeError\u001b[39;00m(\u001b[33m\"\u001b[39m\u001b[33mCannot pass values for both `x` and `y`.\u001b[39m\u001b[33m\"\u001b[39m)\n\u001b[32m-> \u001b[39m\u001b[32m2631\u001b[39m p = \u001b[43m_CategoricalAggPlotter\u001b[49m\u001b[43m(\u001b[49m\n\u001b[32m   2632\u001b[39m \u001b[43m    \u001b[49m\u001b[43mdata\u001b[49m\u001b[43m=\u001b[49m\u001b[43mdata\u001b[49m\u001b[43m,\u001b[49m\n\u001b[32m   2633\u001b[39m \u001b[43m    \u001b[49m\u001b[43mvariables\u001b[49m\u001b[43m=\u001b[49m\u001b[38;5;28;43mdict\u001b[39;49m\u001b[43m(\u001b[49m\u001b[43mx\u001b[49m\u001b[43m=\u001b[49m\u001b[43mx\u001b[49m\u001b[43m,\u001b[49m\u001b[43m \u001b[49m\u001b[43my\u001b[49m\u001b[43m=\u001b[49m\u001b[43my\u001b[49m\u001b[43m,\u001b[49m\u001b[43m \u001b[49m\u001b[43mhue\u001b[49m\u001b[43m=\u001b[49m\u001b[43mhue\u001b[49m\u001b[43m)\u001b[49m\u001b[43m,\u001b[49m\n\u001b[32m   2634\u001b[39m \u001b[43m    \u001b[49m\u001b[43morder\u001b[49m\u001b[43m=\u001b[49m\u001b[43morder\u001b[49m\u001b[43m,\u001b[49m\n\u001b[32m   2635\u001b[39m \u001b[43m    \u001b[49m\u001b[43morient\u001b[49m\u001b[43m=\u001b[49m\u001b[43morient\u001b[49m\u001b[43m,\u001b[49m\n\u001b[32m   2636\u001b[39m \u001b[43m    \u001b[49m\u001b[43mcolor\u001b[49m\u001b[43m=\u001b[49m\u001b[43mcolor\u001b[49m\u001b[43m,\u001b[49m\n\u001b[32m   2637\u001b[39m \u001b[43m    \u001b[49m\u001b[43mlegend\u001b[49m\u001b[43m=\u001b[49m\u001b[43mlegend\u001b[49m\u001b[43m,\u001b[49m\n\u001b[32m   2638\u001b[39m \u001b[43m\u001b[49m\u001b[43m)\u001b[49m\n\u001b[32m   2640\u001b[39m \u001b[38;5;28;01mif\u001b[39;00m ax \u001b[38;5;129;01mis\u001b[39;00m \u001b[38;5;28;01mNone\u001b[39;00m:\n\u001b[32m   2641\u001b[39m     ax = plt.gca()\n",
      "\u001b[36mFile \u001b[39m\u001b[32m~\\AppData\\Local\\Programs\\Python\\Python313\\Lib\\site-packages\\seaborn\\categorical.py:67\u001b[39m, in \u001b[36m_CategoricalPlotter.__init__\u001b[39m\u001b[34m(self, data, variables, order, orient, require_numeric, color, legend)\u001b[39m\n\u001b[32m     56\u001b[39m \u001b[38;5;28;01mdef\u001b[39;00m\u001b[38;5;250m \u001b[39m\u001b[34m__init__\u001b[39m(\n\u001b[32m     57\u001b[39m     \u001b[38;5;28mself\u001b[39m,\n\u001b[32m     58\u001b[39m     data=\u001b[38;5;28;01mNone\u001b[39;00m,\n\u001b[32m   (...)\u001b[39m\u001b[32m     64\u001b[39m     legend=\u001b[33m\"\u001b[39m\u001b[33mauto\u001b[39m\u001b[33m\"\u001b[39m,\n\u001b[32m     65\u001b[39m ):\n\u001b[32m---> \u001b[39m\u001b[32m67\u001b[39m     \u001b[38;5;28;43msuper\u001b[39;49m\u001b[43m(\u001b[49m\u001b[43m)\u001b[49m\u001b[43m.\u001b[49m\u001b[34;43m__init__\u001b[39;49m\u001b[43m(\u001b[49m\u001b[43mdata\u001b[49m\u001b[43m=\u001b[49m\u001b[43mdata\u001b[49m\u001b[43m,\u001b[49m\u001b[43m \u001b[49m\u001b[43mvariables\u001b[49m\u001b[43m=\u001b[49m\u001b[43mvariables\u001b[49m\u001b[43m)\u001b[49m\n\u001b[32m     69\u001b[39m     \u001b[38;5;66;03m# This method takes care of some bookkeeping that is necessary because the\u001b[39;00m\n\u001b[32m     70\u001b[39m     \u001b[38;5;66;03m# original categorical plots (prior to the 2021 refactor) had some rules that\u001b[39;00m\n\u001b[32m     71\u001b[39m     \u001b[38;5;66;03m# don't fit exactly into VectorPlotter logic. It may be wise to have a second\u001b[39;00m\n\u001b[32m   (...)\u001b[39m\u001b[32m     76\u001b[39m     \u001b[38;5;66;03m# default VectorPlotter rules. If we do decide to make orient part of the\u001b[39;00m\n\u001b[32m     77\u001b[39m     \u001b[38;5;66;03m# _base variable assignment, we'll want to figure out how to express that.\u001b[39;00m\n\u001b[32m     78\u001b[39m     \u001b[38;5;28;01mif\u001b[39;00m \u001b[38;5;28mself\u001b[39m.input_format == \u001b[33m\"\u001b[39m\u001b[33mwide\u001b[39m\u001b[33m\"\u001b[39m \u001b[38;5;129;01mand\u001b[39;00m orient \u001b[38;5;129;01min\u001b[39;00m [\u001b[33m\"\u001b[39m\u001b[33mh\u001b[39m\u001b[33m\"\u001b[39m, \u001b[33m\"\u001b[39m\u001b[33my\u001b[39m\u001b[33m\"\u001b[39m]:\n",
      "\u001b[36mFile \u001b[39m\u001b[32m~\\AppData\\Local\\Programs\\Python\\Python313\\Lib\\site-packages\\seaborn\\_base.py:634\u001b[39m, in \u001b[36mVectorPlotter.__init__\u001b[39m\u001b[34m(self, data, variables)\u001b[39m\n\u001b[32m    629\u001b[39m \u001b[38;5;66;03m# var_ordered is relevant only for categorical axis variables, and may\u001b[39;00m\n\u001b[32m    630\u001b[39m \u001b[38;5;66;03m# be better handled by an internal axis information object that tracks\u001b[39;00m\n\u001b[32m    631\u001b[39m \u001b[38;5;66;03m# such information and is set up by the scale_* methods. The analogous\u001b[39;00m\n\u001b[32m    632\u001b[39m \u001b[38;5;66;03m# information for numeric axes would be information about log scales.\u001b[39;00m\n\u001b[32m    633\u001b[39m \u001b[38;5;28mself\u001b[39m._var_ordered = {\u001b[33m\"\u001b[39m\u001b[33mx\u001b[39m\u001b[33m\"\u001b[39m: \u001b[38;5;28;01mFalse\u001b[39;00m, \u001b[33m\"\u001b[39m\u001b[33my\u001b[39m\u001b[33m\"\u001b[39m: \u001b[38;5;28;01mFalse\u001b[39;00m}  \u001b[38;5;66;03m# alt., used DefaultDict\u001b[39;00m\n\u001b[32m--> \u001b[39m\u001b[32m634\u001b[39m \u001b[38;5;28;43mself\u001b[39;49m\u001b[43m.\u001b[49m\u001b[43massign_variables\u001b[49m\u001b[43m(\u001b[49m\u001b[43mdata\u001b[49m\u001b[43m,\u001b[49m\u001b[43m \u001b[49m\u001b[43mvariables\u001b[49m\u001b[43m)\u001b[49m\n\u001b[32m    636\u001b[39m \u001b[38;5;66;03m# TODO Lots of tests assume that these are called to initialize the\u001b[39;00m\n\u001b[32m    637\u001b[39m \u001b[38;5;66;03m# mappings to default values on class initialization. I'd prefer to\u001b[39;00m\n\u001b[32m    638\u001b[39m \u001b[38;5;66;03m# move away from that and only have a mapping when explicitly called.\u001b[39;00m\n\u001b[32m    639\u001b[39m \u001b[38;5;28;01mfor\u001b[39;00m var \u001b[38;5;129;01min\u001b[39;00m [\u001b[33m\"\u001b[39m\u001b[33mhue\u001b[39m\u001b[33m\"\u001b[39m, \u001b[33m\"\u001b[39m\u001b[33msize\u001b[39m\u001b[33m\"\u001b[39m, \u001b[33m\"\u001b[39m\u001b[33mstyle\u001b[39m\u001b[33m\"\u001b[39m]:\n",
      "\u001b[36mFile \u001b[39m\u001b[32m~\\AppData\\Local\\Programs\\Python\\Python313\\Lib\\site-packages\\seaborn\\_base.py:679\u001b[39m, in \u001b[36mVectorPlotter.assign_variables\u001b[39m\u001b[34m(self, data, variables)\u001b[39m\n\u001b[32m    674\u001b[39m \u001b[38;5;28;01melse\u001b[39;00m:\n\u001b[32m    675\u001b[39m     \u001b[38;5;66;03m# When dealing with long-form input, use the newer PlotData\u001b[39;00m\n\u001b[32m    676\u001b[39m     \u001b[38;5;66;03m# object (internal but introduced for the objects interface)\u001b[39;00m\n\u001b[32m    677\u001b[39m     \u001b[38;5;66;03m# to centralize / standardize data consumption logic.\u001b[39;00m\n\u001b[32m    678\u001b[39m     \u001b[38;5;28mself\u001b[39m.input_format = \u001b[33m\"\u001b[39m\u001b[33mlong\u001b[39m\u001b[33m\"\u001b[39m\n\u001b[32m--> \u001b[39m\u001b[32m679\u001b[39m     plot_data = \u001b[43mPlotData\u001b[49m\u001b[43m(\u001b[49m\u001b[43mdata\u001b[49m\u001b[43m,\u001b[49m\u001b[43m \u001b[49m\u001b[43mvariables\u001b[49m\u001b[43m)\u001b[49m\n\u001b[32m    680\u001b[39m     frame = plot_data.frame\n\u001b[32m    681\u001b[39m     names = plot_data.names\n",
      "\u001b[36mFile \u001b[39m\u001b[32m~\\AppData\\Local\\Programs\\Python\\Python313\\Lib\\site-packages\\seaborn\\_core\\data.py:58\u001b[39m, in \u001b[36mPlotData.__init__\u001b[39m\u001b[34m(self, data, variables)\u001b[39m\n\u001b[32m     51\u001b[39m \u001b[38;5;28;01mdef\u001b[39;00m\u001b[38;5;250m \u001b[39m\u001b[34m__init__\u001b[39m(\n\u001b[32m     52\u001b[39m     \u001b[38;5;28mself\u001b[39m,\n\u001b[32m     53\u001b[39m     data: DataSource,\n\u001b[32m     54\u001b[39m     variables: \u001b[38;5;28mdict\u001b[39m[\u001b[38;5;28mstr\u001b[39m, VariableSpec],\n\u001b[32m     55\u001b[39m ):\n\u001b[32m     57\u001b[39m     data = handle_data_source(data)\n\u001b[32m---> \u001b[39m\u001b[32m58\u001b[39m     frame, names, ids = \u001b[38;5;28;43mself\u001b[39;49m\u001b[43m.\u001b[49m\u001b[43m_assign_variables\u001b[49m\u001b[43m(\u001b[49m\u001b[43mdata\u001b[49m\u001b[43m,\u001b[49m\u001b[43m \u001b[49m\u001b[43mvariables\u001b[49m\u001b[43m)\u001b[49m\n\u001b[32m     60\u001b[39m     \u001b[38;5;28mself\u001b[39m.frame = frame\n\u001b[32m     61\u001b[39m     \u001b[38;5;28mself\u001b[39m.names = names\n",
      "\u001b[36mFile \u001b[39m\u001b[32m~\\AppData\\Local\\Programs\\Python\\Python313\\Lib\\site-packages\\seaborn\\_core\\data.py:232\u001b[39m, in \u001b[36mPlotData._assign_variables\u001b[39m\u001b[34m(self, data, variables)\u001b[39m\n\u001b[32m    230\u001b[39m     \u001b[38;5;28;01melse\u001b[39;00m:\n\u001b[32m    231\u001b[39m         err += \u001b[33m\"\u001b[39m\u001b[33mAn entry with this name does not appear in `data`.\u001b[39m\u001b[33m\"\u001b[39m\n\u001b[32m--> \u001b[39m\u001b[32m232\u001b[39m     \u001b[38;5;28;01mraise\u001b[39;00m \u001b[38;5;167;01mValueError\u001b[39;00m(err)\n\u001b[32m    234\u001b[39m \u001b[38;5;28;01melse\u001b[39;00m:\n\u001b[32m    235\u001b[39m \n\u001b[32m    236\u001b[39m     \u001b[38;5;66;03m# Otherwise, assume the value somehow represents data\u001b[39;00m\n\u001b[32m    237\u001b[39m \n\u001b[32m    238\u001b[39m     \u001b[38;5;66;03m# Ignore empty data structures\u001b[39;00m\n\u001b[32m    239\u001b[39m     \u001b[38;5;28;01mif\u001b[39;00m \u001b[38;5;28misinstance\u001b[39m(val, Sized) \u001b[38;5;129;01mand\u001b[39;00m \u001b[38;5;28mlen\u001b[39m(val) == \u001b[32m0\u001b[39m:\n",
      "\u001b[31mValueError\u001b[39m: Could not interpret value `genre_count` for `x`. An entry with this name does not appear in `data`."
     ]
    },
    {
     "data": {
      "text/plain": [
       "<Figure size 800x500 with 0 Axes>"
      ]
     },
     "metadata": {},
     "output_type": "display_data"
    }
   ],
   "source": []
  },
  {
   "cell_type": "code",
   "execution_count": null,
   "id": "994e3119-8d86-46c6-aee6-e81620154f5c",
   "metadata": {},
   "outputs": [],
   "source": [
    "\n"
   ]
  },
  {
   "cell_type": "code",
   "execution_count": null,
   "id": "30013916-4cdd-4947-a2b5-9ecab6fce260",
   "metadata": {},
   "outputs": [],
   "source": []
  },
  {
   "cell_type": "code",
   "execution_count": null,
   "id": "0803b9af-f143-4d88-b557-c708f4e95002",
   "metadata": {},
   "outputs": [],
   "source": [
    "\n"
   ]
  }
 ],
 "metadata": {
  "kernelspec": {
   "display_name": "Python 3 (ipykernel)",
   "language": "python",
   "name": "python3"
  },
  "language_info": {
   "codemirror_mode": {
    "name": "ipython",
    "version": 3
   },
   "file_extension": ".py",
   "mimetype": "text/x-python",
   "name": "python",
   "nbconvert_exporter": "python",
   "pygments_lexer": "ipython3",
   "version": "3.13.1"
  }
 },
 "nbformat": 4,
 "nbformat_minor": 5
}
